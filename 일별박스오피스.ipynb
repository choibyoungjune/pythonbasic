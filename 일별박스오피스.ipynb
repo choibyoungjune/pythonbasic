{
  "nbformat": 4,
  "nbformat_minor": 0,
  "metadata": {
    "colab": {
      "name": "일별박스오피스.ipynb",
      "provenance": [],
      "authorship_tag": "ABX9TyPnUpl9yfK9o8562IEcR7lZ",
      "include_colab_link": true
    },
    "kernelspec": {
      "name": "python3",
      "display_name": "Python 3"
    }
  },
  "cells": [
    {
      "cell_type": "markdown",
      "metadata": {
        "id": "view-in-github",
        "colab_type": "text"
      },
      "source": [
        "<a href=\"https://colab.research.google.com/github/choibyoungjune/pythonbasic/blob/master/%EC%9D%BC%EB%B3%84%EB%B0%95%EC%8A%A4%EC%98%A4%ED%94%BC%EC%8A%A4.ipynb\" target=\"_parent\"><img src=\"https://colab.research.google.com/assets/colab-badge.svg\" alt=\"Open In Colab\"/></a>"
      ]
    },
    {
      "cell_type": "code",
      "metadata": {
        "id": "gR5ZNgfY0zno",
        "colab_type": "code",
        "colab": {}
      },
      "source": [
        "from urllib.request import urlopen\n",
        "from urllib import parse\n",
        "from bs4 import BeautifulSoup as bs"
      ],
      "execution_count": null,
      "outputs": []
    },
    {
      "cell_type": "code",
      "metadata": {
        "id": "7OqInaa8zIVT",
        "colab_type": "code",
        "colab": {}
      },
      "source": [
        "def searchDailyBoxOffice(date):\n",
        "  url = '\thttp://www.kobis.or.kr/kobisopenapi/webservice/rest/boxoffice/searchDailyBoxOfficeList.xml?'\n",
        "  url = url + 'key=430156241533f1d058c603178cc3ca0e'\n",
        "  url = url + '&targetDt=' + date\n",
        "  data = urlopen(url).read().decode('utf-8')\n",
        "  bt = bs(data, 'lxml-xml')\n",
        "  lst=[]\n",
        "  for i in bt.find_all('movieCd'):\n",
        "    lst.append(i.getText())\n",
        "  return lst"
      ],
      "execution_count": null,
      "outputs": []
    },
    {
      "cell_type": "code",
      "metadata": {
        "id": "cwqZrgOr1NjQ",
        "colab_type": "code",
        "colab": {}
      },
      "source": [
        "def searchMovieInfo(movieCd):\n",
        "  url = '\thttp://www.kobis.or.kr/kobisopenapi/webservice/rest/movie/searchMovieInfo.xml?'\n",
        "  url = url + 'key=430156241533f1d058c603178cc3ca0e'\n",
        "  url = url + '&movieCd=' + movieCd\n",
        "  data = urlopen(url).read().decode('utf-8')\n",
        "  lst=[]\n",
        "  bt = bs(data, 'lxml-xml')\n",
        "  lst.append(bt.find('movieNm').getText())\n",
        "  lst.append(bt.find('genreNm').getText())\n",
        "\n",
        "  #lst.append(bt.find_all('genreNm'))\n",
        "  #lst[1]=str(lst[1]).replace('[','').replace('<genreNm>','').replace('</genreNm>','').replace(']','')\n",
        "\n",
        "  return lst"
      ],
      "execution_count": null,
      "outputs": []
    },
    {
      "cell_type": "code",
      "metadata": {
        "id": "wJTzAXNy1p4X",
        "colab_type": "code",
        "colab": {
          "base_uri": "https://localhost:8080/",
          "height": 36
        },
        "outputId": "d58fc8ee-5eb7-4393-daf9-721aec4da55e"
      },
      "source": [
        "lst=searchDailyBoxOffice('20200707')\n",
        "dt={}\n",
        "for i in lst:\n",
        "  dt[searchMovieInfo(i)[0]]=searchMovieInfo(i)[1]\n",
        "lt1 = dt.values()\n",
        "print(type(lt1), lt1)"
      ],
      "execution_count": null,
      "outputs": [
        {
          "output_type": "stream",
          "text": [
            "<class 'dict_values'> dict_values(['드라마', '드라마', '사극', '범죄', '애니메이션', 'SF', 'SF', '드라마', '전쟁', '드라마'])\n"
          ],
          "name": "stdout"
        }
      ]
    },
    {
      "cell_type": "code",
      "metadata": {
        "id": "r3mct7HHMF-4",
        "colab_type": "code",
        "colab": {
          "base_uri": "https://localhost:8080/",
          "height": 56
        },
        "outputId": "ecb6bf4b-7791-408b-8b78-43fbd2a6004a"
      },
      "source": [
        "url = '\thttp://www.kobis.or.kr/kobisopenapi/webservice/rest/boxoffice/searchDailyBoxOfficeList.xml?'\n",
        "url = url + 'key=430156241533f1d058c603178cc3ca0e'\n",
        "url = url + '&targetDt=' + '20200707'\n",
        "data = urlopen(url).read().decode('utf-8')\n",
        "xmldata = bs(data, 'lxml-xml')\n",
        "\n",
        "movieNm = xmldata.select('dailyBoxOffice > movieNm')\n",
        "movieCd = xmldata.find_all('movieCd')\n",
        "\n",
        "mvlt = list(zip(movieNm, movieCd))\n",
        "nm=[]\n",
        "cd=[]\n",
        "for i in mvlt:\n",
        "  #mv.append(list(zip(i[0].getText(), i[1].getText())))\n",
        "  nm.append(i[0].getText())\n",
        "  cd.append(i[1].getText())\n",
        "print(nm, cd)"
      ],
      "execution_count": null,
      "outputs": [
        {
          "output_type": "stream",
          "text": [
            "['#살아있다', '결백', '소리꾼', '다크 나이트', '온워드: 단 하루의 기적', '인베이젼 2020', '킬 스위치', '위대한 쇼맨', '트로이 디렉터스 컷', '아무튼, 아담'] ['20193069', '20183813', '20196201', '20081056', '20191048', '20208617', '20200802', '20179462', '20200836', '20200361']\n"
          ],
          "name": "stdout"
        }
      ]
    },
    {
      "cell_type": "code",
      "metadata": {
        "id": "_Mz8pH2_SFwG",
        "colab_type": "code",
        "colab": {
          "base_uri": "https://localhost:8080/",
          "height": 36
        },
        "outputId": "8a0692e0-e9d9-4420-bfd4-c142d4da9dce"
      },
      "source": [
        "l1 = [0,1,2]\n",
        "l2 = ['가','나','다']\n",
        "mv = list(zip(l1, l2))\n",
        "print(mv[0][0])"
      ],
      "execution_count": null,
      "outputs": [
        {
          "output_type": "stream",
          "text": [
            "0\n"
          ],
          "name": "stdout"
        }
      ]
    }
  ]
}