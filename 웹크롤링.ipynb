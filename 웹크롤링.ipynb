{
  "nbformat": 4,
  "nbformat_minor": 0,
  "metadata": {
    "colab": {
      "name": "웹크롤링.ipynb",
      "provenance": [],
      "collapsed_sections": [],
      "authorship_tag": "ABX9TyM6V8Iafg+Mr+0cKke//kUW",
      "include_colab_link": true
    },
    "kernelspec": {
      "name": "python3",
      "display_name": "Python 3"
    }
  },
  "cells": [
    {
      "cell_type": "markdown",
      "metadata": {
        "id": "view-in-github",
        "colab_type": "text"
      },
      "source": [
        "<a href=\"https://colab.research.google.com/github/choibyoungjune/pythonbasic/blob/master/%EC%9B%B9%ED%81%AC%EB%A1%A4%EB%A7%81.ipynb\" target=\"_parent\"><img src=\"https://colab.research.google.com/assets/colab-badge.svg\" alt=\"Open In Colab\"/></a>"
      ]
    },
    {
      "cell_type": "code",
      "metadata": {
        "id": "glvXTT4ComF_",
        "colab_type": "code",
        "colab": {}
      },
      "source": [
        "from urllib.request import urlopen\n",
        "from bs4 import BeautifulSoup as bs\n",
        "\n",
        "url = 'https://movie.naver.com/movie/sdb/rank/rmovie.nhn'\n",
        "naverdata = urlopen(url).read()\n",
        "print(naverdata)\n",
        "\n",
        "url = 'https://movie.daum.net/boxoffice/weekly'\n",
        "daumdata = urlopen(url).read()\n",
        "print(daumdata)"
      ],
      "execution_count": null,
      "outputs": []
    },
    {
      "cell_type": "code",
      "metadata": {
        "id": "D1-cO8_FrvBR",
        "colab_type": "code",
        "colab": {}
      },
      "source": [
        "naver = naverdata.decode('euc-kr')\n",
        "print(naver)\n",
        "daum = daumdata.decode('utf-8')\n",
        "print(daum)"
      ],
      "execution_count": null,
      "outputs": []
    },
    {
      "cell_type": "code",
      "metadata": {
        "id": "iKMZkNVgxJzS",
        "colab_type": "code",
        "colab": {}
      },
      "source": [
        "import re\n",
        "#charset 문장이 없다면 default로 utf-8이다\n",
        "def charEncode(st) :\n",
        "  #return st.split('charset=')[1].replace('\">','')\n",
        "  pt = r'charset[ ]*=[\\']*[\\\"]*([\\w-]+)[\\\"]*[\\']*'\n",
        "  \n",
        "  return re.search(pt, st) and re.search(pt, st).group(1) or 'utf-8'"
      ],
      "execution_count": null,
      "outputs": []
    },
    {
      "cell_type": "code",
      "metadata": {
        "id": "3QIDkjcs1Ghr",
        "colab_type": "code",
        "colab": {}
      },
      "source": [
        "def urlHtml(url) :\n",
        "  url_data = urlopen(url).read()\n",
        "  urlcc = charEncode(str(url_data))\n",
        "  html = url_data.decode(urlcc)\n",
        "  return html"
      ],
      "execution_count": null,
      "outputs": []
    },
    {
      "cell_type": "code",
      "metadata": {
        "id": "ug-ANcaevL7c",
        "colab_type": "code",
        "colab": {
          "base_uri": "https://localhost:8080/",
          "height": 111
        },
        "outputId": "0c00f008-6418-40a7-914e-0469193e368f"
      },
      "source": [
        "html =urlHtml('https://news.naver.com/') \n",
        "\n",
        "bshtml = bs(html, 'html.parser')\n",
        "\n",
        "#bshtml.select_one(\"[charset]\")\n",
        "#bshtml.select(\"meta[charset]\")\n",
        "head = bshtml.select(\".hdline_news > ul > li > .hdline_article_tit\")\n",
        "for item in head:\n",
        "  print(item.getText().replace('\\n','').replace('\\t','').lstrip())"
      ],
      "execution_count": null,
      "outputs": [
        {
          "output_type": "stream",
          "text": [
            "'5G 공짜폰' 이통3사에 과징금 512억원…\"단통법 이후 최대 규모\"(종합)                                    \n",
            "트럼프 \"도움되면 김정은과 3차 정상회담\"                                    \n",
            "반기문, 박지원·이인영 향해 “北에 구걸 태도 말라”                                    \n",
            "노영민, 다주택 처분 뒷북 연속…돌아선 민심 수습될까                                    \n",
            "비건 \"회담 요청한 적도 없는데\"…北에 불쾌감 표출                                    \n"
          ],
          "name": "stdout"
        }
      ]
    },
    {
      "cell_type": "code",
      "metadata": {
        "id": "wLaadlcWFG0e",
        "colab_type": "code",
        "colab": {}
      },
      "source": [
        ""
      ],
      "execution_count": null,
      "outputs": []
    }
  ]
}